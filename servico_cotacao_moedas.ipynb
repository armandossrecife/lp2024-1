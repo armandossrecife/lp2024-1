{
  "nbformat": 4,
  "nbformat_minor": 0,
  "metadata": {
    "colab": {
      "provenance": [],
      "authorship_tag": "ABX9TyPzhOWg9W96Qu8KfWwWn+pe",
      "include_colab_link": true
    },
    "kernelspec": {
      "name": "python3",
      "display_name": "Python 3"
    },
    "language_info": {
      "name": "python"
    }
  },
  "cells": [
    {
      "cell_type": "markdown",
      "metadata": {
        "id": "view-in-github",
        "colab_type": "text"
      },
      "source": [
        "<a href=\"https://colab.research.google.com/github/armandossrecife/lp2024-1/blob/main/servico_cotacao_moedas.ipynb\" target=\"_parent\"><img src=\"https://colab.research.google.com/assets/colab-badge.svg\" alt=\"Open In Colab\"/></a>"
      ]
    },
    {
      "cell_type": "markdown",
      "source": [
        "# Dados para cotação de moedas mundiais"
      ],
      "metadata": {
        "id": "DzswA3auo_Up"
      }
    },
    {
      "cell_type": "code",
      "execution_count": 1,
      "metadata": {
        "id": "wIHtGsSPnePJ"
      },
      "outputs": [],
      "source": [
        "import requests"
      ]
    },
    {
      "cell_type": "markdown",
      "source": [
        "## Acesso principal\n",
        "\n",
        "\n",
        "URL do serviço: https://economia.awesomeapi.com.br"
      ],
      "metadata": {
        "id": "QC6STdVXpINy"
      }
    },
    {
      "cell_type": "code",
      "source": [
        "MY_URL = \"https://economia.awesomeapi.com.br/\"\n",
        "resposta = requests.get(MY_URL)"
      ],
      "metadata": {
        "id": "wGzjZiV8nnvH"
      },
      "execution_count": 5,
      "outputs": []
    },
    {
      "cell_type": "code",
      "source": [
        "dados = resposta.json()\n",
        "dados"
      ],
      "metadata": {
        "colab": {
          "base_uri": "https://localhost:8080/"
        },
        "id": "xUwma_Mvnxv2",
        "outputId": "e6619e53-676e-4749-a55c-18d7a17e6e98"
      },
      "execution_count": 6,
      "outputs": [
        {
          "output_type": "execute_result",
          "data": {
            "text/plain": [
              "{'info': {'title': 'API de Cotações',\n",
              "  'api_docs': 'https://docs.awesomeapi.com.br/api-de-moedas',\n",
              "  'contact': 'contato@awesomeapi.com.br'},\n",
              " 'labels': {'bid': 'Compra',\n",
              "  'ask': 'Venda',\n",
              "  'varBid': 'Variação',\n",
              "  'pctChange': 'Porcentagem de Variação',\n",
              "  'high': 'Máximo',\n",
              "  'low': 'Mínimo'}}"
            ]
          },
          "metadata": {},
          "execution_count": 6
        }
      ]
    },
    {
      "cell_type": "code",
      "source": [
        "info = dados['info']\n",
        "print(f\"info: {info}\")"
      ],
      "metadata": {
        "colab": {
          "base_uri": "https://localhost:8080/"
        },
        "id": "ZLqmAuawn4AK",
        "outputId": "91bbd5c1-178d-4e45-f04c-1c6d88323fac"
      },
      "execution_count": 8,
      "outputs": [
        {
          "output_type": "stream",
          "name": "stdout",
          "text": [
            "info: {'title': 'API de Cotações', 'api_docs': 'https://docs.awesomeapi.com.br/api-de-moedas', 'contact': 'contato@awesomeapi.com.br'}\n"
          ]
        }
      ]
    },
    {
      "cell_type": "code",
      "source": [
        "title = info['title']\n",
        "api_docs = info['api_docs']\n",
        "contact = info['contact']\n",
        "print(f\"title: {title}\")\n",
        "print(f\"api_docs: {api_docs}\")\n",
        "print(f\"contact: {contact}\")"
      ],
      "metadata": {
        "colab": {
          "base_uri": "https://localhost:8080/"
        },
        "id": "MdwndTZEoHvu",
        "outputId": "d094b050-f68c-4d39-9ddc-d62e97e4ded6"
      },
      "execution_count": 13,
      "outputs": [
        {
          "output_type": "stream",
          "name": "stdout",
          "text": [
            "title: API de Cotações\n",
            "api_docs: https://docs.awesomeapi.com.br/api-de-moedas\n",
            "contact: contato@awesomeapi.com.br\n"
          ]
        }
      ]
    },
    {
      "cell_type": "markdown",
      "source": [
        "## Retorna moedas selecionadas\n",
        "\n",
        "API de cotações: https://docs.awesomeapi.com.br/api-de-moedas\n",
        "\n",
        "Retorna dados da lista de moedas\n",
        "https://economia.awesomeapi.com.br/json/last/:moedas\n"
      ],
      "metadata": {
        "id": "LR_TKlPypNjd"
      }
    },
    {
      "cell_type": "markdown",
      "source": [
        "### Cotação do Dólar americano para o Real Brasileiro"
      ],
      "metadata": {
        "id": "yops5h1sqwWL"
      }
    },
    {
      "cell_type": "code",
      "source": [
        "MOEDA = \"USD-BRL\"\n",
        "URL_COTACOES = f\"https://economia.awesomeapi.com.br/json/last/{MOEDA}\"\n",
        "\n",
        "cotacoes_dolar_real = requests.get(URL_COTACOES)\n",
        "dados_cotacoes_dolar_real = cotacoes_dolar_real.json()\n",
        "dados_cotacoes_dolar_real"
      ],
      "metadata": {
        "colab": {
          "base_uri": "https://localhost:8080/"
        },
        "id": "oz61PBOvpRQf",
        "outputId": "f2cd0e84-faf7-49fe-8df9-63ac5ee406bb"
      },
      "execution_count": 15,
      "outputs": [
        {
          "output_type": "execute_result",
          "data": {
            "text/plain": [
              "{'USDBRL': {'code': 'USD',\n",
              "  'codein': 'BRL',\n",
              "  'name': 'Dólar Americano/Real Brasileiro',\n",
              "  'high': '5.4781',\n",
              "  'low': '5.4387',\n",
              "  'varBid': '-0.0269',\n",
              "  'pctChange': '-0.49',\n",
              "  'bid': '5.4427',\n",
              "  'ask': '5.4433',\n",
              "  'timestamp': '1720531229',\n",
              "  'create_date': '2024-07-09 10:20:29'}}"
            ]
          },
          "metadata": {},
          "execution_count": 15
        }
      ]
    },
    {
      "cell_type": "code",
      "source": [
        "valor_dolar_fechamento = dados_cotacoes_dolar_real['USDBRL']['bid']\n",
        "data_dolar_fechamento = dados_cotacoes_dolar_real['USDBRL']['create_date']\n",
        "print(f\"valor_dolar_fechamento: {valor_dolar_fechamento}\")\n",
        "print(f\"data_dolar_fechamento: {data_dolar_fechamento}\")"
      ],
      "metadata": {
        "colab": {
          "base_uri": "https://localhost:8080/"
        },
        "id": "qDEOHFQppkn3",
        "outputId": "28389d75-0611-4eb9-a566-6e6ec123631b"
      },
      "execution_count": 16,
      "outputs": [
        {
          "output_type": "stream",
          "name": "stdout",
          "text": [
            "valor_dolar_fechamento: 5.4427\n",
            "data_dolar_fechamento: 2024-07-09 10:20:29\n"
          ]
        }
      ]
    },
    {
      "cell_type": "markdown",
      "source": [
        "### Cotação do Dólar, Euro e Bitcoin para o Real"
      ],
      "metadata": {
        "id": "Nj7Etw29rFGc"
      }
    },
    {
      "cell_type": "code",
      "source": [
        "MOEDAS = \"USD-BRL,EUR-BRL,BTC-BRL\"\n",
        "URL_COTACOES_MOEDAS = f\"https://economia.awesomeapi.com.br/json/last/{MOEDAS}\"\n",
        "\n",
        "cotacoes_dolar_euro_bitcoin_real = requests.get(URL_COTACOES_MOEDAS)\n",
        "dados_cotacoes_dolar_euro_bitcoin_real = cotacoes_dolar_euro_bitcoin_real.json()\n",
        "dados_cotacoes_dolar_euro_bitcoin_real"
      ],
      "metadata": {
        "colab": {
          "base_uri": "https://localhost:8080/"
        },
        "id": "XaANawSvrIis",
        "outputId": "12bfde68-a5a5-4e3d-f28c-ab4ad04bbd0b"
      },
      "execution_count": 17,
      "outputs": [
        {
          "output_type": "execute_result",
          "data": {
            "text/plain": [
              "{'USDBRL': {'code': 'USD',\n",
              "  'codein': 'BRL',\n",
              "  'name': 'Dólar Americano/Real Brasileiro',\n",
              "  'high': '5.4781',\n",
              "  'low': '5.4387',\n",
              "  'varBid': '-0.0232',\n",
              "  'pctChange': '-0.43',\n",
              "  'bid': '5.4462',\n",
              "  'ask': '5.4471',\n",
              "  'timestamp': '1720531495',\n",
              "  'create_date': '2024-07-09 10:24:55'},\n",
              " 'EURBRL': {'code': 'EUR',\n",
              "  'codein': 'BRL',\n",
              "  'name': 'Euro/Real Brasileiro',\n",
              "  'high': '5.9267',\n",
              "  'low': '5.8839',\n",
              "  'varBid': '-0.0333',\n",
              "  'pctChange': '-0.56',\n",
              "  'bid': '5.8894',\n",
              "  'ask': '5.8974',\n",
              "  'timestamp': '1720531469',\n",
              "  'create_date': '2024-07-09 10:24:29'},\n",
              " 'BTCBRL': {'code': 'BTC',\n",
              "  'codein': 'BRL',\n",
              "  'name': 'Bitcoin/Real Brasileiro',\n",
              "  'high': '318397',\n",
              "  'low': '303100',\n",
              "  'varBid': '-1340',\n",
              "  'pctChange': '-0.43',\n",
              "  'bid': '313838',\n",
              "  'ask': '313963',\n",
              "  'timestamp': '1720530378',\n",
              "  'create_date': '2024-07-09 10:06:18'}}"
            ]
          },
          "metadata": {},
          "execution_count": 17
        }
      ]
    },
    {
      "cell_type": "code",
      "source": [
        "for item in dados_cotacoes_dolar_euro_bitcoin_real.items():\n",
        "  print(item)"
      ],
      "metadata": {
        "colab": {
          "base_uri": "https://localhost:8080/"
        },
        "id": "QEQBy4DyrZDQ",
        "outputId": "f1908352-f0e3-4a42-ce53-7ee8dc68a715"
      },
      "execution_count": 19,
      "outputs": [
        {
          "output_type": "stream",
          "name": "stdout",
          "text": [
            "('USDBRL', {'code': 'USD', 'codein': 'BRL', 'name': 'Dólar Americano/Real Brasileiro', 'high': '5.4781', 'low': '5.4387', 'varBid': '-0.0232', 'pctChange': '-0.43', 'bid': '5.4462', 'ask': '5.4471', 'timestamp': '1720531495', 'create_date': '2024-07-09 10:24:55'})\n",
            "('EURBRL', {'code': 'EUR', 'codein': 'BRL', 'name': 'Euro/Real Brasileiro', 'high': '5.9267', 'low': '5.8839', 'varBid': '-0.0333', 'pctChange': '-0.56', 'bid': '5.8894', 'ask': '5.8974', 'timestamp': '1720531469', 'create_date': '2024-07-09 10:24:29'})\n",
            "('BTCBRL', {'code': 'BTC', 'codein': 'BRL', 'name': 'Bitcoin/Real Brasileiro', 'high': '318397', 'low': '303100', 'varBid': '-1340', 'pctChange': '-0.43', 'bid': '313838', 'ask': '313963', 'timestamp': '1720530378', 'create_date': '2024-07-09 10:06:18'})\n"
          ]
        }
      ]
    },
    {
      "cell_type": "code",
      "source": [
        "for item in dados_cotacoes_dolar_euro_bitcoin_real.items():\n",
        "  moeda = item[0]\n",
        "  valor = item[1]['bid']\n",
        "  data = item[1]['create_date']\n",
        "  print(f\"{moeda}: {valor}, {data}\")"
      ],
      "metadata": {
        "colab": {
          "base_uri": "https://localhost:8080/"
        },
        "id": "-PDLTHVxriOW",
        "outputId": "aa7b9e1e-4082-45f6-b743-ec004b8864f4"
      },
      "execution_count": 21,
      "outputs": [
        {
          "output_type": "stream",
          "name": "stdout",
          "text": [
            "USDBRL: 5.4462, 2024-07-09 10:24:55\n",
            "EURBRL: 5.8894, 2024-07-09 10:24:29\n",
            "BTCBRL: 313838, 2024-07-09 10:06:18\n"
          ]
        }
      ]
    },
    {
      "cell_type": "code",
      "source": [],
      "metadata": {
        "id": "oUpBHbzTru-5"
      },
      "execution_count": null,
      "outputs": []
    }
  ]
}