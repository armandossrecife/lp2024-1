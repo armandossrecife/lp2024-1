{
  "nbformat": 4,
  "nbformat_minor": 0,
  "metadata": {
    "colab": {
      "provenance": [],
      "authorship_tag": "ABX9TyNVC0d19CMUq4s1VumI+GPb",
      "include_colab_link": true
    },
    "kernelspec": {
      "name": "python3",
      "display_name": "Python 3"
    },
    "language_info": {
      "name": "python"
    }
  },
  "cells": [
    {
      "cell_type": "markdown",
      "metadata": {
        "id": "view-in-github",
        "colab_type": "text"
      },
      "source": [
        "<a href=\"https://colab.research.google.com/github/armandossrecife/lp2024-1/blob/main/teste_arquivo_alunos_ccn.ipynb\" target=\"_parent\"><img src=\"https://colab.research.google.com/assets/colab-badge.svg\" alt=\"Open In Colab\"/></a>"
      ]
    },
    {
      "cell_type": "code",
      "execution_count": 20,
      "metadata": {
        "colab": {
          "base_uri": "https://localhost:8080/"
        },
        "id": "9Tt-aljnoNnr",
        "outputId": "ae33a874-e84e-4dff-e18d-61027e06531e"
      },
      "outputs": [
        {
          "output_type": "stream",
          "name": "stdout",
          "text": [
            "--2024-04-11 15:12:16--  https://github.com/armandossrecife/lp2024-1/raw/main/alunos_ccn.csv\n",
            "Resolving github.com (github.com)... 140.82.112.4\n",
            "Connecting to github.com (github.com)|140.82.112.4|:443... connected.\n",
            "HTTP request sent, awaiting response... 302 Found\n",
            "Location: https://raw.githubusercontent.com/armandossrecife/lp2024-1/main/alunos_ccn.csv [following]\n",
            "--2024-04-11 15:12:16--  https://raw.githubusercontent.com/armandossrecife/lp2024-1/main/alunos_ccn.csv\n",
            "Resolving raw.githubusercontent.com (raw.githubusercontent.com)... 185.199.108.133, 185.199.109.133, 185.199.110.133, ...\n",
            "Connecting to raw.githubusercontent.com (raw.githubusercontent.com)|185.199.108.133|:443... connected.\n",
            "HTTP request sent, awaiting response... 200 OK\n",
            "Length: 147059 (144K) [text/plain]\n",
            "Saving to: ‘alunos_ccn.csv.1’\n",
            "\n",
            "alunos_ccn.csv.1    100%[===================>] 143.61K  --.-KB/s    in 0.02s   \n",
            "\n",
            "2024-04-11 15:12:16 (6.41 MB/s) - ‘alunos_ccn.csv.1’ saved [147059/147059]\n",
            "\n"
          ]
        }
      ],
      "source": [
        "# Recupera o arquivo alunos_ccn.csv do repositorio lp2024-1\n",
        "!wget https://github.com/armandossrecife/lp2024-1/raw/main/alunos_ccn.csv"
      ]
    },
    {
      "cell_type": "code",
      "source": [
        "# Ler os dados do arquivo alunos_ccn.csv\n",
        "f_alunos_ccn = open('alunos_ccn.csv', mode='r')\n",
        "conteudo = f_alunos_ccn.read()\n",
        "print(conteudo)\n",
        "f_alunos_ccn.close()"
      ],
      "metadata": {
        "id": "QcVtUJ9AoUu6"
      },
      "execution_count": null,
      "outputs": []
    },
    {
      "cell_type": "code",
      "source": [
        "# Ler os dados do arquivo alunos_ccn.csv\n",
        "f_alunos_ccn = open('alunos_ccn.csv', mode='r')\n",
        "for linha in f_alunos_ccn:\n",
        "  # remove o \\n de cada linha\n",
        "  linha = linha.strip()\n",
        "  aluno = linha.split(',')\n",
        "  print(aluno)\n",
        "f_alunos_ccn.close()"
      ],
      "metadata": {
        "id": "iyOB86RzolgC"
      },
      "execution_count": null,
      "outputs": []
    },
    {
      "cell_type": "code",
      "source": [
        "# Ler os dados do arquivo alunos_ccn.csv\n",
        "# e guarda em um dicionário\n",
        "dict_alunos_ccn = {}\n",
        "f_alunos_ccn = open('alunos_ccn.csv', mode='r')\n",
        "for linha in f_alunos_ccn:\n",
        "  # remove o \\n de cada linha\n",
        "  linha = linha.strip()\n",
        "  aluno = linha.split(',')\n",
        "  matricula = aluno[0]\n",
        "  nome = aluno[1]\n",
        "  curso = aluno[2]\n",
        "  dict_alunos_ccn[matricula] = (nome, curso)\n",
        "f_alunos_ccn.close()\n",
        "del dict_alunos_ccn['Matrícula']"
      ],
      "metadata": {
        "id": "pVoXdT_4pDNm"
      },
      "execution_count": 56,
      "outputs": []
    },
    {
      "cell_type": "code",
      "source": [
        "dict_alunos_ccn['20239047777']"
      ],
      "metadata": {
        "colab": {
          "base_uri": "https://localhost:8080/"
        },
        "id": "lpuCDAXop9tB",
        "outputId": "1d9d890c-a19a-4d7c-ed28-7f6ef5637a1d"
      },
      "execution_count": 57,
      "outputs": [
        {
          "output_type": "execute_result",
          "data": {
            "text/plain": [
              "('MICAIAS CARVALHO VIEIRA', 'CIÊNCIA DA COMPUTAÇÃO')"
            ]
          },
          "metadata": {},
          "execution_count": 57
        }
      ]
    },
    {
      "cell_type": "code",
      "source": [
        "# Listar o conteúdo do dicionário de alunos\n",
        "for matricula, aluno in dict_alunos_ccn.items():\n",
        "  nome = aluno[0]\n",
        "  curso = aluno[1]\n",
        "  print(matricula, nome, curso)"
      ],
      "metadata": {
        "id": "8rnxqMY1p_GG"
      },
      "execution_count": null,
      "outputs": []
    },
    {
      "cell_type": "code",
      "source": [
        "# Liste apenas os alunos de ciência da computação\n",
        "nome_curso = 'Ciência da Computação'\n",
        "for matricula, aluno in dict_alunos_ccn.items():\n",
        "  nome = aluno[0]\n",
        "  curso = aluno[1]\n",
        "  if curso == nome_curso.upper():\n",
        "    print(matricula, nome, curso)"
      ],
      "metadata": {
        "id": "Fir6Xg2UrzAP"
      },
      "execution_count": null,
      "outputs": []
    },
    {
      "cell_type": "code",
      "source": [
        "# Quantos alunos de computação aparecem nesse arquivo?"
      ],
      "metadata": {
        "id": "rm36-bBhsJqe"
      },
      "execution_count": 31,
      "outputs": []
    },
    {
      "cell_type": "code",
      "source": [
        "# Liste apenas os alunos de computação e matemática"
      ],
      "metadata": {
        "id": "4G6opuRisc-4"
      },
      "execution_count": null,
      "outputs": []
    },
    {
      "cell_type": "code",
      "source": [
        "#Liste apenas os alunos que tenham o nome Maria\n",
        "for matricula, aluno in dict_alunos_ccn.items():\n",
        "  nome = aluno[0]\n",
        "  curso = aluno[1]\n",
        "  nome_aux = \"Maria\".upper()\n",
        "  if nome_aux in nome:\n",
        "    print(matricula, nome, curso)"
      ],
      "metadata": {
        "id": "thjm_sHWrgcQ"
      },
      "execution_count": null,
      "outputs": []
    },
    {
      "cell_type": "code",
      "source": [
        "#Liste apenas os alunos que tenham o primeiro nome Maria"
      ],
      "metadata": {
        "id": "eqvshEl7rA60"
      },
      "execution_count": null,
      "outputs": []
    },
    {
      "cell_type": "code",
      "source": [],
      "metadata": {
        "id": "-GXFapxCv8G5"
      },
      "execution_count": 99,
      "outputs": []
    }
  ]
}