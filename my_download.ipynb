{
  "nbformat": 4,
  "nbformat_minor": 0,
  "metadata": {
    "colab": {
      "provenance": [],
      "authorship_tag": "ABX9TyNtoCXkfTsG3s7oksuyp52C",
      "include_colab_link": true
    },
    "kernelspec": {
      "name": "python3",
      "display_name": "Python 3"
    },
    "language_info": {
      "name": "python"
    }
  },
  "cells": [
    {
      "cell_type": "markdown",
      "metadata": {
        "id": "view-in-github",
        "colab_type": "text"
      },
      "source": [
        "<a href=\"https://colab.research.google.com/github/armandossrecife/lp2024-1/blob/main/my_download.ipynb\" target=\"_parent\"><img src=\"https://colab.research.google.com/assets/colab-badge.svg\" alt=\"Open In Colab\"/></a>"
      ]
    },
    {
      "cell_type": "code",
      "source": [
        "# O notebook do Google Colabs ja tem instalada a biblioteca requests\n",
        "# Mas caso seu ambiente nao tenha a lib e so instalar via pip\n",
        "!pip install requests"
      ],
      "metadata": {
        "colab": {
          "base_uri": "https://localhost:8080/"
        },
        "id": "cpge-i5sMl5z",
        "outputId": "46c7c265-baaa-4da1-efd2-c7fa54cd5990"
      },
      "execution_count": 10,
      "outputs": [
        {
          "output_type": "stream",
          "name": "stdout",
          "text": [
            "Requirement already satisfied: requests in /usr/local/lib/python3.10/dist-packages (2.31.0)\n",
            "Requirement already satisfied: charset-normalizer<4,>=2 in /usr/local/lib/python3.10/dist-packages (from requests) (3.3.2)\n",
            "Requirement already satisfied: idna<4,>=2.5 in /usr/local/lib/python3.10/dist-packages (from requests) (3.6)\n",
            "Requirement already satisfied: urllib3<3,>=1.21.1 in /usr/local/lib/python3.10/dist-packages (from requests) (2.0.7)\n",
            "Requirement already satisfied: certifi>=2017.4.17 in /usr/local/lib/python3.10/dist-packages (from requests) (2024.2.2)\n"
          ]
        }
      ]
    },
    {
      "cell_type": "code",
      "execution_count": 13,
      "metadata": {
        "id": "8xC5I7zdMhGz"
      },
      "outputs": [],
      "source": [
        "import requests\n",
        "\n",
        "def download_file(url, destination):\n",
        "    try:\n",
        "        response = requests.get(url)\n",
        "        response.raise_for_status()  # Verifica se houve algum erro na requisição\n",
        "\n",
        "        with open(destination, 'wb') as file:\n",
        "            file.write(response.content)\n",
        "\n",
        "        print(f\"Download completo. Arquivo salvo em: {destination}\")\n",
        "    except requests.exceptions.MissingSchema:\n",
        "        print(\"URL inválida. Certifique-se de fornecer uma URL válida.\")\n",
        "    except requests.exceptions.RequestException as e:\n",
        "        print(f\"Erro na conexão: {e}\")"
      ]
    },
    {
      "cell_type": "code",
      "source": [
        "my_url = \"https://raw.githubusercontent.com/armandossrecife/lp2024-1/main/alunos_ccn.csv\"\n",
        "meu_arquivo_local = \"alunos_ccn.csv\"\n",
        "download_file(url=my_url, destination=meu_arquivo_local)"
      ],
      "metadata": {
        "colab": {
          "base_uri": "https://localhost:8080/"
        },
        "id": "6W1sWu2fZxoy",
        "outputId": "002481ee-2ed1-4f0e-f533-800b5cbac9b5"
      },
      "execution_count": 14,
      "outputs": [
        {
          "output_type": "stream",
          "name": "stdout",
          "text": [
            "Download completo. Arquivo salvo em: alunos_ccn.csv\n"
          ]
        }
      ]
    },
    {
      "cell_type": "code",
      "source": [
        "# Faz o download de um arquivo publico de imagem\n",
        "my_url = \"https://raw.githubusercontent.com/armandossrecife/teste/main/screen_matrix.jpeg\"\n",
        "meu_arquivo_local = \"screen_matrix.jpeg\"\n",
        "download_file(url=my_url, destination=meu_arquivo_local)"
      ],
      "metadata": {
        "colab": {
          "base_uri": "https://localhost:8080/"
        },
        "id": "UhBwzi80YeBY",
        "outputId": "19d643d6-365d-4f06-c5f7-ac4cf4c6623f"
      },
      "execution_count": 15,
      "outputs": [
        {
          "output_type": "stream",
          "name": "stdout",
          "text": [
            "Download completo. Arquivo salvo em: screen_matrix.jpeg\n"
          ]
        }
      ]
    },
    {
      "cell_type": "code",
      "source": [
        "# Faz o download de um arquivo publico de audio\n",
        "my_url = \"https://raw.githubusercontent.com/armandossrecife/teste/main/Kalimba.mp3\"\n",
        "meu_arquivo_local = \"Kalimba.mp3\"\n",
        "download_file(url=my_url, destination=meu_arquivo_local)"
      ],
      "metadata": {
        "colab": {
          "base_uri": "https://localhost:8080/"
        },
        "id": "uuhM91i-ZB86",
        "outputId": "7dfbdd0a-f826-4a55-f0e6-841041907598"
      },
      "execution_count": 16,
      "outputs": [
        {
          "output_type": "stream",
          "name": "stdout",
          "text": [
            "Download completo. Arquivo salvo em: Kalimba.mp3\n"
          ]
        }
      ]
    },
    {
      "cell_type": "code",
      "source": [
        "# Faz o download de um arquivo publico de video\n",
        "my_url = \"https://raw.githubusercontent.com/armandossrecife/teste/main/Adrienne.mp4\"\n",
        "meu_arquivo_local = \"Adrienne.mp4\"\n",
        "download_file(url=my_url, destination=meu_arquivo_local)"
      ],
      "metadata": {
        "colab": {
          "base_uri": "https://localhost:8080/"
        },
        "id": "m7EyzlRmNQbs",
        "outputId": "e4e19695-ddcf-458d-9247-0a66d90861f1"
      },
      "execution_count": 17,
      "outputs": [
        {
          "output_type": "stream",
          "name": "stdout",
          "text": [
            "Download completo. Arquivo salvo em: Adrienne.mp4\n"
          ]
        }
      ]
    },
    {
      "cell_type": "code",
      "source": [],
      "metadata": {
        "id": "gbl5aDXEZVkR"
      },
      "execution_count": null,
      "outputs": []
    }
  ]
}