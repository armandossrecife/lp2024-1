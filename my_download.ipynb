{
  "nbformat": 4,
  "nbformat_minor": 0,
  "metadata": {
    "colab": {
      "provenance": [],
      "authorship_tag": "ABX9TyNZ92q86mJ43I25kt1uSHSN",
      "include_colab_link": true
    },
    "kernelspec": {
      "name": "python3",
      "display_name": "Python 3"
    },
    "language_info": {
      "name": "python"
    }
  },
  "cells": [
    {
      "cell_type": "markdown",
      "metadata": {
        "id": "view-in-github",
        "colab_type": "text"
      },
      "source": [
        "<a href=\"https://colab.research.google.com/github/armandossrecife/lp2024-1/blob/main/my_download.ipynb\" target=\"_parent\"><img src=\"https://colab.research.google.com/assets/colab-badge.svg\" alt=\"Open In Colab\"/></a>"
      ]
    },
    {
      "cell_type": "markdown",
      "source": [
        "# Download de arquivos"
      ],
      "metadata": {
        "id": "hQcHfM4Ev54f"
      }
    },
    {
      "cell_type": "code",
      "source": [
        "import requests\n",
        "from tqdm import tqdm  # Import for progress bar\n",
        "from urllib.parse import urlparse\n",
        "import os"
      ],
      "metadata": {
        "id": "F8JqKV7Rv_Tb"
      },
      "execution_count": 1,
      "outputs": []
    },
    {
      "cell_type": "markdown",
      "source": [
        "## Class de utilidades"
      ],
      "metadata": {
        "id": "wKO8M_g3yqvS"
      }
    },
    {
      "cell_type": "code",
      "source": [
        "PROTOCOLOS_SUPORTADOS = ('http', 'https', 'ftp')\n",
        "\n",
        "# Classe que extrai nome e extensao de uma URL\n",
        "class Util:\n",
        "    def extrair_nome_extensao_url(self, url):\n",
        "        try:\n",
        "            parsed_url = urlparse(url)\n",
        "            if parsed_url.scheme not in PROTOCOLOS_SUPORTADOS:\n",
        "                raise ValueError(f\"Protocolo não suportado: {parsed_url.scheme}\")\n",
        "\n",
        "            caminho_arquivo = parsed_url.path\n",
        "            if not caminho_arquivo:\n",
        "                raise ValueError(\"Arquivo não identificado na URL\")\n",
        "            arquivo = os.path.basename(caminho_arquivo).split('.')\n",
        "            nome_arquivo = arquivo[0]\n",
        "            extensao = arquivo[1]\n",
        "            return nome_arquivo,extensao\n",
        "\n",
        "        except Exception as ex:\n",
        "            raise ValueError(f\"{str(ex)}\") from ex  # Preserve original exception"
      ],
      "metadata": {
        "id": "raUoz0ySwGGu"
      },
      "execution_count": 40,
      "outputs": []
    },
    {
      "cell_type": "code",
      "source": [
        "# Exemplos:\n",
        "url1 = 'https://raw.githubusercontent.com/armandossrecife/teste/main/babydogcat.png'\n",
        "url2 = 'https://raw.githubusercontent.com/armandossrecife/teste/main/screen_matrix.jpeg'\n",
        "url3 = 'https://raw.githubusercontent.com/armandossrecife/teste/main/Kalimba.mp3'\n",
        "url4 = 'https://raw.githubusercontent.com/armandossrecife/teste/main/Adrienne.mp4'"
      ],
      "metadata": {
        "id": "GckQcW5DwqjN"
      },
      "execution_count": 3,
      "outputs": []
    },
    {
      "cell_type": "code",
      "source": [
        "nome1, extensao1 = Util().extrair_nome_extensao_url(url1)\n",
        "print(f'Arquivo: {nome1}, Extensão: {extensao1}')"
      ],
      "metadata": {
        "colab": {
          "base_uri": "https://localhost:8080/"
        },
        "id": "X6tKcOz7x8V2",
        "outputId": "c27e1cfc-eadc-47f0-9893-aa3ec8296235"
      },
      "execution_count": 4,
      "outputs": [
        {
          "output_type": "stream",
          "name": "stdout",
          "text": [
            "Arquivo: babydogcat, Extensão: .png\n"
          ]
        }
      ]
    },
    {
      "cell_type": "code",
      "source": [
        "nome4, extensao4 = Util().extrair_nome_extensao_url(url4)\n",
        "print(f'Arquivo: {nome4}, Extensão: {extensao4}')"
      ],
      "metadata": {
        "colab": {
          "base_uri": "https://localhost:8080/"
        },
        "id": "ki5aup-byI7s",
        "outputId": "587613ac-2208-428b-a81a-37dd8e33fb16"
      },
      "execution_count": 5,
      "outputs": [
        {
          "output_type": "stream",
          "name": "stdout",
          "text": [
            "Arquivo: Adrienne, Extensão: .mp4\n"
          ]
        }
      ]
    },
    {
      "cell_type": "code",
      "source": [
        "try:\n",
        "  Util().extrair_nome_extensao_url(\"qualquer coisa\")\n",
        "except Exception as ex:\n",
        "  print(ex)"
      ],
      "metadata": {
        "colab": {
          "base_uri": "https://localhost:8080/"
        },
        "id": "q3z-60MFyX7E",
        "outputId": "4e82d922-d9a0-4cb8-e82a-a2df2e942aa5"
      },
      "execution_count": 7,
      "outputs": [
        {
          "output_type": "stream",
          "name": "stdout",
          "text": [
            "Protocolo não suportado: \n"
          ]
        }
      ]
    },
    {
      "cell_type": "markdown",
      "source": [
        "## Introdução a barra de progresso em modo texto"
      ],
      "metadata": {
        "id": "GjS7MRvVyuri"
      }
    },
    {
      "cell_type": "markdown",
      "source": [
        "https://tqdm.github.io"
      ],
      "metadata": {
        "id": "RFzeH-gYzG6u"
      }
    },
    {
      "cell_type": "code",
      "source": [
        "!pip install tqdm"
      ],
      "metadata": {
        "colab": {
          "base_uri": "https://localhost:8080/"
        },
        "id": "jJHwWTcszEF2",
        "outputId": "fac51a3f-e4b2-43e6-a33c-ec79bcb83f0e"
      },
      "execution_count": 8,
      "outputs": [
        {
          "output_type": "stream",
          "name": "stdout",
          "text": [
            "Requirement already satisfied: tqdm in /usr/local/lib/python3.10/dist-packages (4.66.4)\n"
          ]
        }
      ]
    },
    {
      "cell_type": "code",
      "source": [
        "from tqdm import tqdm\n",
        "\n",
        "contador = 0\n",
        "for i in tqdm(range(100)):\n",
        "    pass"
      ],
      "metadata": {
        "colab": {
          "base_uri": "https://localhost:8080/"
        },
        "id": "0Yq3pE9ozNcc",
        "outputId": "774f8f8f-bd02-438f-bc56-755f25842a37"
      },
      "execution_count": 9,
      "outputs": [
        {
          "output_type": "stream",
          "name": "stderr",
          "text": [
            "100%|██████████| 100/100 [00:00<00:00, 629775.38it/s]\n"
          ]
        }
      ]
    },
    {
      "cell_type": "code",
      "source": [
        "import time\n",
        "\n",
        "def faz_alguma_coisa():\n",
        "  time.sleep(1)\n",
        "\n",
        "# total de iteracoes: 10\n",
        "total_seconds = 10\n",
        "\n",
        "print(f\"Aguarde {total_seconds}s...\")\n",
        "for _ in range(total_seconds):\n",
        "  faz_alguma_coisa()"
      ],
      "metadata": {
        "colab": {
          "base_uri": "https://localhost:8080/"
        },
        "id": "VRIJc82ezwG_",
        "outputId": "40ed514c-4ff3-4e45-d542-595e78a79c41"
      },
      "execution_count": 13,
      "outputs": [
        {
          "output_type": "stream",
          "name": "stdout",
          "text": [
            "Aguarde 10s...\n"
          ]
        }
      ]
    },
    {
      "cell_type": "code",
      "source": [
        "# Como o tqdm atualiza com base em iterações\n",
        "# podemos criar um loop com atrasos de um segundo\n",
        "with tqdm(total=total_seconds, desc=\"Simulando um progresso\", unit=\"s\") as pbar:\n",
        "    for _ in range(total_seconds):\n",
        "        faz_alguma_coisa()\n",
        "        pbar.update(1)  # Atualiza a barra de progresso em 1 segundo."
      ],
      "metadata": {
        "colab": {
          "base_uri": "https://localhost:8080/"
        },
        "id": "ll9ZmSapNGcz",
        "outputId": "438dd1dd-e0b5-4b27-f918-7b5969d1574d"
      },
      "execution_count": 14,
      "outputs": [
        {
          "output_type": "stream",
          "name": "stderr",
          "text": [
            "Simulando um progresso: 100%|██████████| 10/10 [00:10<00:00,  1.00s/s]\n"
          ]
        }
      ]
    },
    {
      "cell_type": "markdown",
      "source": [
        "## Faz o download de um arquivo\n",
        "\n",
        "URL do arquivo: https://raw.githubusercontent.com/armandossrecife/teste/main/babydogcat.png"
      ],
      "metadata": {
        "id": "KUyYaHTSIcyQ"
      }
    },
    {
      "cell_type": "markdown",
      "source": [
        "### Download sem barra de progresso"
      ],
      "metadata": {
        "id": "pLlsXlr4KSlW"
      }
    },
    {
      "cell_type": "code",
      "source": [
        "print(f\"url: {url1}\")\n",
        "response = requests.get(url1, stream=True)  # Enable streaming for progress\n",
        "cabecalho_resposta = response.headers\n",
        "dados_cabecalho = dict(cabecalho_resposta)\n",
        "\n",
        "print(f\"Headers: {dados_cabecalho}\")\n",
        "total_size = int(response.headers.get('content-length', 0))  # Get total file size\n",
        "print(f'Total: {total_size}')"
      ],
      "metadata": {
        "colab": {
          "base_uri": "https://localhost:8080/"
        },
        "id": "XQmg9GyqAzbI",
        "outputId": "4bd47b8b-6ae6-4927-c5ed-8e95fc0e8bad"
      },
      "execution_count": 15,
      "outputs": [
        {
          "output_type": "stream",
          "name": "stdout",
          "text": [
            "url: https://raw.githubusercontent.com/armandossrecife/teste/main/babydogcat.png\n",
            "Headers: {'Connection': 'keep-alive', 'Content-Length': '2209621', 'Cache-Control': 'max-age=300', 'Content-Security-Policy': \"default-src 'none'; style-src 'unsafe-inline'; sandbox\", 'Content-Type': 'image/png', 'ETag': 'W/\"4f6a952bd59a8ed42da0350551c5ec7a63aca30cadbbbc5edd10eadc096cd887\"', 'Strict-Transport-Security': 'max-age=31536000', 'X-Content-Type-Options': 'nosniff', 'X-Frame-Options': 'deny', 'X-XSS-Protection': '1; mode=block', 'X-GitHub-Request-Id': '3E90:371613:43F6708:45AEC57:668D5DDC', 'Accept-Ranges': 'bytes', 'Date': 'Tue, 09 Jul 2024 15:57:16 GMT', 'Via': '1.1 varnish', 'X-Served-By': 'cache-bur-kbur8200044-BUR', 'X-Cache': 'MISS', 'X-Cache-Hits': '0', 'X-Timer': 'S1720540637.562918,VS0,VE214', 'Vary': 'Authorization,Accept-Encoding,Origin', 'Access-Control-Allow-Origin': '*', 'Cross-Origin-Resource-Policy': 'cross-origin', 'X-Fastly-Request-ID': 'ae39fe4328d1aca28738feadcd41af47414225de', 'Expires': 'Tue, 09 Jul 2024 16:02:16 GMT', 'Source-Age': '0'}\n",
            "Total: 2209621\n"
          ]
        }
      ]
    },
    {
      "cell_type": "code",
      "source": [
        "dados_cabecalho"
      ],
      "metadata": {
        "colab": {
          "base_uri": "https://localhost:8080/"
        },
        "id": "gcXZQtjBEM-y",
        "outputId": "126f6236-c8fd-47fd-a8e6-a6103f3b2e48"
      },
      "execution_count": 16,
      "outputs": [
        {
          "output_type": "execute_result",
          "data": {
            "text/plain": [
              "{'Connection': 'keep-alive',\n",
              " 'Content-Length': '2209621',\n",
              " 'Cache-Control': 'max-age=300',\n",
              " 'Content-Security-Policy': \"default-src 'none'; style-src 'unsafe-inline'; sandbox\",\n",
              " 'Content-Type': 'image/png',\n",
              " 'ETag': 'W/\"4f6a952bd59a8ed42da0350551c5ec7a63aca30cadbbbc5edd10eadc096cd887\"',\n",
              " 'Strict-Transport-Security': 'max-age=31536000',\n",
              " 'X-Content-Type-Options': 'nosniff',\n",
              " 'X-Frame-Options': 'deny',\n",
              " 'X-XSS-Protection': '1; mode=block',\n",
              " 'X-GitHub-Request-Id': '3E90:371613:43F6708:45AEC57:668D5DDC',\n",
              " 'Accept-Ranges': 'bytes',\n",
              " 'Date': 'Tue, 09 Jul 2024 15:57:16 GMT',\n",
              " 'Via': '1.1 varnish',\n",
              " 'X-Served-By': 'cache-bur-kbur8200044-BUR',\n",
              " 'X-Cache': 'MISS',\n",
              " 'X-Cache-Hits': '0',\n",
              " 'X-Timer': 'S1720540637.562918,VS0,VE214',\n",
              " 'Vary': 'Authorization,Accept-Encoding,Origin',\n",
              " 'Access-Control-Allow-Origin': '*',\n",
              " 'Cross-Origin-Resource-Policy': 'cross-origin',\n",
              " 'X-Fastly-Request-ID': 'ae39fe4328d1aca28738feadcd41af47414225de',\n",
              " 'Expires': 'Tue, 09 Jul 2024 16:02:16 GMT',\n",
              " 'Source-Age': '0'}"
            ]
          },
          "metadata": {},
          "execution_count": 16
        }
      ]
    },
    {
      "cell_type": "code",
      "source": [
        "# Conteudo da resposta\n",
        "print(type(response.content))"
      ],
      "metadata": {
        "colab": {
          "base_uri": "https://localhost:8080/"
        },
        "id": "ZFtSdQXpIlnW",
        "outputId": "53687804-6018-45c9-ef82-97f2149dfeda"
      },
      "execution_count": 17,
      "outputs": [
        {
          "output_type": "stream",
          "name": "stdout",
          "text": [
            "<class 'bytes'>\n"
          ]
        }
      ]
    },
    {
      "cell_type": "code",
      "source": [
        "# Cria um canal de conteudo binario com pedacos em 1024 bytes\n",
        "response.iter_content(chunk_size=1024)"
      ],
      "metadata": {
        "colab": {
          "base_uri": "https://localhost:8080/"
        },
        "id": "27G8gqPtEndK",
        "outputId": "c6a17588-80cf-44a7-9b7f-3563877e622c"
      },
      "execution_count": 18,
      "outputs": [
        {
          "output_type": "execute_result",
          "data": {
            "text/plain": [
              "<generator object iter_slices at 0x7b9937bb3bc0>"
            ]
          },
          "metadata": {},
          "execution_count": 18
        }
      ]
    },
    {
      "cell_type": "code",
      "source": [
        "# Consome o conteudo binario desse canal\n",
        "print(\"Aguarde...\")\n",
        "# Cria um novo arquivo para receber o conteudo binario\n",
        "nome_arquivo = 'meu_arquivo.png'\n",
        "with open(nome_arquivo, 'wb') as file:\n",
        "    for chunk in response.iter_content(chunk_size=1024):\n",
        "        file.write(chunk)\n",
        "print(f\"Arquivo {nome_arquivo} criado com sucesso!\")"
      ],
      "metadata": {
        "colab": {
          "base_uri": "https://localhost:8080/"
        },
        "id": "h8cU3M3ZHAzf",
        "outputId": "f8563af5-9dfa-4bf9-f5dd-3b701b51b280"
      },
      "execution_count": 19,
      "outputs": [
        {
          "output_type": "stream",
          "name": "stdout",
          "text": [
            "Aguarde...\n",
            "Arquivo meu_arquivo.png criado com sucesso!\n"
          ]
        }
      ]
    },
    {
      "cell_type": "markdown",
      "source": [
        "### Download com barra de progresso"
      ],
      "metadata": {
        "id": "OTeiW9aJKcsu"
      }
    },
    {
      "cell_type": "code",
      "source": [
        "print(f\"url: {url1}\")\n",
        "response = requests.get(url1, stream=True)  # Enable streaming for progress\n",
        "cabecalho_resposta = response.headers\n",
        "dados_cabecalho = dict(cabecalho_resposta)\n",
        "print(f\"Headers: {dados_cabecalho}\")\n",
        "total_size = int(response.headers.get('content-length', 0))  # Get total file size\n",
        "print(f'Total: {total_size}')"
      ],
      "metadata": {
        "colab": {
          "base_uri": "https://localhost:8080/"
        },
        "id": "1fwCY03WJXcQ",
        "outputId": "dc8f7cdf-2af3-4a66-a112-dd323ba558c7"
      },
      "execution_count": 20,
      "outputs": [
        {
          "output_type": "stream",
          "name": "stdout",
          "text": [
            "url: https://raw.githubusercontent.com/armandossrecife/teste/main/babydogcat.png\n",
            "Headers: {'Connection': 'keep-alive', 'Content-Length': '2209621', 'Cache-Control': 'max-age=300', 'Content-Security-Policy': \"default-src 'none'; style-src 'unsafe-inline'; sandbox\", 'Content-Type': 'image/png', 'ETag': 'W/\"4f6a952bd59a8ed42da0350551c5ec7a63aca30cadbbbc5edd10eadc096cd887\"', 'Strict-Transport-Security': 'max-age=31536000', 'X-Content-Type-Options': 'nosniff', 'X-Frame-Options': 'deny', 'X-XSS-Protection': '1; mode=block', 'X-GitHub-Request-Id': '3E90:371613:43F6708:45AEC57:668D5DDC', 'Accept-Ranges': 'bytes', 'Date': 'Tue, 09 Jul 2024 15:59:07 GMT', 'Via': '1.1 varnish', 'X-Served-By': 'cache-bur-kbur8200114-BUR', 'X-Cache': 'HIT', 'X-Cache-Hits': '0', 'X-Timer': 'S1720540747.423270,VS0,VE1', 'Vary': 'Authorization,Accept-Encoding,Origin', 'Access-Control-Allow-Origin': '*', 'Cross-Origin-Resource-Policy': 'cross-origin', 'X-Fastly-Request-ID': 'fbce27433b251a3f092c211c9b5af701d95f8e35', 'Expires': 'Tue, 09 Jul 2024 16:04:07 GMT', 'Source-Age': '111'}\n",
            "Total: 2209621\n"
          ]
        }
      ]
    },
    {
      "cell_type": "code",
      "source": [
        "# Conteudo da resposta\n",
        "print(type(response.content))"
      ],
      "metadata": {
        "colab": {
          "base_uri": "https://localhost:8080/"
        },
        "id": "hwmjz9k_Km7f",
        "outputId": "2dfb3ecb-ad59-4bf1-c788-67768e982f48"
      },
      "execution_count": 21,
      "outputs": [
        {
          "output_type": "stream",
          "name": "stdout",
          "text": [
            "<class 'bytes'>\n"
          ]
        }
      ]
    },
    {
      "cell_type": "code",
      "source": [
        "len(response.content)"
      ],
      "metadata": {
        "colab": {
          "base_uri": "https://localhost:8080/"
        },
        "id": "rdv-UdTXL1eR",
        "outputId": "a62c27e6-7c20-4f53-94f5-8db5542707ef"
      },
      "execution_count": 22,
      "outputs": [
        {
          "output_type": "execute_result",
          "data": {
            "text/plain": [
              "2209621"
            ]
          },
          "metadata": {},
          "execution_count": 22
        }
      ]
    },
    {
      "cell_type": "code",
      "source": [
        "# Cria um canal de conteudo binario com pedacos em 1024 bytes\n",
        "response.iter_content(chunk_size=1024)"
      ],
      "metadata": {
        "colab": {
          "base_uri": "https://localhost:8080/"
        },
        "id": "cOCzaYKdKufV",
        "outputId": "ffa25572-e1f9-4332-84c3-cc3f9f1d0b35"
      },
      "execution_count": 23,
      "outputs": [
        {
          "output_type": "execute_result",
          "data": {
            "text/plain": [
              "<generator object iter_slices at 0x7b9937a07220>"
            ]
          },
          "metadata": {},
          "execution_count": 23
        }
      ]
    },
    {
      "cell_type": "code",
      "source": [
        "print(\"Aguarde...\")\n",
        "# Cria um novo arquivo para receber o conteudo binario\n",
        "nome_arquivo = 'meu_arquivo.png'\n",
        "with open(nome_arquivo, 'wb') as file:\n",
        "  with tqdm(total=total_size, unit='B', unit_scale=True, desc=\"meu_arquivo.png\") as pbar:\n",
        "    for chunk in response.iter_content(chunk_size=1024):\n",
        "      if chunk:\n",
        "        file.write(chunk)\n",
        "        pbar.update(len(chunk))"
      ],
      "metadata": {
        "colab": {
          "base_uri": "https://localhost:8080/"
        },
        "id": "RZtoAjljLdIl",
        "outputId": "ac58dc17-8477-4c55-dedb-c8f37852c74e"
      },
      "execution_count": 24,
      "outputs": [
        {
          "output_type": "stream",
          "name": "stdout",
          "text": [
            "Aguarde...\n"
          ]
        },
        {
          "output_type": "stream",
          "name": "stderr",
          "text": [
            "meu_arquivo.png: 100%|██████████| 2.21M/2.21M [00:00<00:00, 277MB/s]\n"
          ]
        }
      ]
    },
    {
      "cell_type": "markdown",
      "source": [
        "## Classe de download com barra de progresso"
      ],
      "metadata": {
        "id": "sPit1cL5yzSz"
      }
    },
    {
      "cell_type": "code",
      "execution_count": 25,
      "metadata": {
        "id": "0VS-WMHEv3RN"
      },
      "outputs": [],
      "source": [
        "# Download para baixar arquivos da internet.\n",
        "class Download:\n",
        "    def __init__(self, url, path_arquivo):\n",
        "        self.url = url # Armazena a URL do arquivo a ser baixado.\n",
        "        self.path_arquivo = path_arquivo # Caminho e nome do arquivo onde o download será salvo.\n",
        "        self.callback = None\n",
        "\n",
        "    # Sobre a funcao callback\n",
        "    # Deve ser chamada durante o progresso do download.\n",
        "    # Atualiza os eventos de retorno\n",
        "    # Deve receber dois parâmetros: o tamanho total do arquivo e o progresso atual.\n",
        "    def set_callback(self, callback):\n",
        "        self.callback = callback\n",
        "\n",
        "    def executa(self):\n",
        "        try:\n",
        "            print('Aguarde...')\n",
        "            response = requests.get(self.url, stream=True)  # Enable streaming for progress\n",
        "            response.raise_for_status()  # Verifica se houve algum erro na requisição\n",
        "            total_size = int(response.headers.get('content-length', 0))  # Get total file size\n",
        "            with open(self.path_arquivo, 'wb') as file:\n",
        "                with tqdm(total=total_size, unit='B', unit_scale=True, desc=self.path_arquivo) as pbar:\n",
        "                    for chunk in response.iter_content(chunk_size=1024):\n",
        "                        if chunk:\n",
        "                            file.write(chunk)\n",
        "                            pbar.update(len(chunk))\n",
        "                            if self.callback:\n",
        "                                self.callback(total_size, pbar.n)  # Call the callback with total size and current progress\n",
        "            print(f\"Download completo. Tamanho: {total_size}, Arquivo salvo em: {self.path_arquivo}\")\n",
        "            return total_size\n",
        "        except requests.exceptions.MissingSchema:\n",
        "            print(\"URL inválida. Certifique-se de fornecer uma URL válida.\")\n",
        "            raise Exception('URL inválida. Certifique-se de fornecer uma URL válida.')\n",
        "        except requests.exceptions.RequestException as e:\n",
        "            print(f\"Erro na conexão: {e}\")\n",
        "            raise Exception(f\"Erro na conexão: {e}\")"
      ]
    },
    {
      "cell_type": "code",
      "source": [
        "meu_download = Download(url1, 'meu_arquivo.png')\n",
        "meu_download.executa()"
      ],
      "metadata": {
        "colab": {
          "base_uri": "https://localhost:8080/"
        },
        "id": "46lFlVJuMNkT",
        "outputId": "c7f7c5fd-439e-4dd4-a2a1-9bdbd95246b1"
      },
      "execution_count": 26,
      "outputs": [
        {
          "output_type": "stream",
          "name": "stdout",
          "text": [
            "Aguarde...\n"
          ]
        },
        {
          "output_type": "stream",
          "name": "stderr",
          "text": [
            "meu_arquivo.png: 100%|██████████| 2.21M/2.21M [00:00<00:00, 10.6MB/s]"
          ]
        },
        {
          "output_type": "stream",
          "name": "stdout",
          "text": [
            "Download completo. Tamanho: 2209621, Arquivo salvo em: meu_arquivo.png\n"
          ]
        },
        {
          "output_type": "stream",
          "name": "stderr",
          "text": [
            "\n"
          ]
        },
        {
          "output_type": "execute_result",
          "data": {
            "text/plain": [
              "2209621"
            ]
          },
          "metadata": {},
          "execution_count": 26
        }
      ]
    },
    {
      "cell_type": "code",
      "source": [
        "print(url3)\n",
        "nome_arquivo,ext = Util().extrair_nome_extensao_url(url3)\n",
        "print(nome_arquivo,ext, end=\"\")"
      ],
      "metadata": {
        "id": "My7v3uwIMVm7",
        "colab": {
          "base_uri": "https://localhost:8080/"
        },
        "outputId": "be49243b-6cc6-461c-8279-50604e08f393"
      },
      "execution_count": 38,
      "outputs": [
        {
          "output_type": "stream",
          "name": "stdout",
          "text": [
            "https://raw.githubusercontent.com/armandossrecife/teste/main/Kalimba.mp3\n",
            "Kalimba.mp3\n",
            "Kalimba mp3"
          ]
        }
      ]
    },
    {
      "cell_type": "code",
      "source": [
        "nome_arquivo,ext = Util().extrair_nome_extensao_url(url3)\n",
        "meu_download = Download(url3, f'{nome_arquivo}.{ext}')\n",
        "meu_download.executa()"
      ],
      "metadata": {
        "colab": {
          "base_uri": "https://localhost:8080/"
        },
        "id": "AczdRC1oQHRZ",
        "outputId": "bd52b514-8856-4630-f3f1-7f563475b6db"
      },
      "execution_count": 39,
      "outputs": [
        {
          "output_type": "stream",
          "name": "stdout",
          "text": [
            "Kalimba.mp3\n",
            "Aguarde...\n"
          ]
        },
        {
          "output_type": "stream",
          "name": "stderr",
          "text": [
            "Kalimba.mp3: 100%|██████████| 8.41M/8.41M [00:00<00:00, 24.3MB/s]"
          ]
        },
        {
          "output_type": "stream",
          "name": "stdout",
          "text": [
            "Download completo. Tamanho: 8414449, Arquivo salvo em: Kalimba.mp3\n"
          ]
        },
        {
          "output_type": "stream",
          "name": "stderr",
          "text": [
            "\n"
          ]
        },
        {
          "output_type": "execute_result",
          "data": {
            "text/plain": [
              "8414449"
            ]
          },
          "metadata": {},
          "execution_count": 39
        }
      ]
    },
    {
      "cell_type": "code",
      "source": [
        "nome_arquivo,ext = Util().extrair_nome_extensao_url(url4)\n",
        "meu_download = Download(url4, f'{nome_arquivo}.{ext}')\n",
        "meu_download.executa()"
      ],
      "metadata": {
        "colab": {
          "base_uri": "https://localhost:8080/"
        },
        "id": "8f4lYzrdOz7g",
        "outputId": "b5ebf8b5-c07c-404d-d981-dd246e449a2b"
      },
      "execution_count": 41,
      "outputs": [
        {
          "output_type": "stream",
          "name": "stdout",
          "text": [
            "Aguarde...\n"
          ]
        },
        {
          "output_type": "stream",
          "name": "stderr",
          "text": [
            "Adrienne.mp4: 100%|██████████| 14.9M/14.9M [00:00<00:00, 31.7MB/s]"
          ]
        },
        {
          "output_type": "stream",
          "name": "stdout",
          "text": [
            "Download completo. Tamanho: 14944332, Arquivo salvo em: Adrienne.mp4\n"
          ]
        },
        {
          "output_type": "stream",
          "name": "stderr",
          "text": [
            "\n"
          ]
        },
        {
          "output_type": "execute_result",
          "data": {
            "text/plain": [
              "14944332"
            ]
          },
          "metadata": {},
          "execution_count": 41
        }
      ]
    },
    {
      "cell_type": "code",
      "source": [],
      "metadata": {
        "id": "dhh_D03pQctE"
      },
      "execution_count": null,
      "outputs": []
    }
  ]
}